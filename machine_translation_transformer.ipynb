{
  "nbformat": 4,
  "nbformat_minor": 5,
  "metadata": {
    "kernelspec": {
      "display_name": "Python 3 (ipykernel)",
      "language": "python",
      "name": "python3"
    },
    "language_info": {
      "codemirror_mode": {
        "name": "ipython",
        "version": 3
      },
      "file_extension": ".py",
      "mimetype": "text/x-python",
      "name": "python",
      "nbconvert_exporter": "python",
      "pygments_lexer": "ipython3",
      "version": "3.8.10"
    },
    "colab": {
      "name": "machine_translation transformer.ipynb",
      "provenance": []
    },
    "accelerator": "GPU"
  },
  "cells": [
    {
      "cell_type": "code",
      "metadata": {
        "id": "1ad2c0e9-e937-41bb-8cb5-779909d331e3"
      },
      "source": [
        "import re\n",
        "import nltk\n",
        "import random\n",
        "import string\n",
        "import pathlib\n",
        "import numpy as np\n",
        "import tensorflow as tf\n",
        "from tensorflow import keras\n",
        "from nltk import word_tokenize\n",
        "from collections import Counter\n",
        "import matplotlib.pyplot as plt\n",
        "from nltk.corpus import stopwords\n",
        "from tensorflow.keras import layers\n",
        "from tensorflow.keras.layers import TextVectorization\n",
        "from sklearn.feature_extraction.text import CountVectorizer\n",
        "from collections import Counter\n",
        "\n",
        "nltk.download('stopwords')\n",
        "nltk.download('punkt')\n",
        "plt.figure(figsize=(10, 10))\n"
      ],
      "id": "1ad2c0e9-e937-41bb-8cb5-779909d331e3",
      "execution_count": null,
      "outputs": []
    },
    {
      "cell_type": "code",
      "metadata": {
        "id": "_gk7KcO529yn"
      },
      "source": [
        "# Download and unzip translation dataset\n",
        "!wget https://www.manythings.org/anki/spa-eng.zip\n",
        "!unzip spa-eng.zip\n",
        "text_file = 'spa.txt'"
      ],
      "id": "_gk7KcO529yn",
      "execution_count": null,
      "outputs": []
    },
    {
      "cell_type": "code",
      "metadata": {
        "id": "d3b3e65d-e1d1-4555-91b6-5373afb70881"
      },
      "source": [
        "# Parse data, place start/end tokens on target sequence and append source/target text pairs \n",
        "with open(text_file) as f:\n",
        "    lines = f.read().split(\"\\n\")[:-1]\n",
        "\n",
        "text_pairs = []\n",
        "for line in lines:\n",
        "    english, spanish, *rest = line.split(\"\\t\")\n",
        "    spanish = \"[start] \" + spanish + \" [end]\"\n",
        "    text_pairs.append((english, spanish))"
      ],
      "id": "d3b3e65d-e1d1-4555-91b6-5373afb70881",
      "execution_count": null,
      "outputs": []
    },
    {
      "cell_type": "code",
      "metadata": {
        "id": "a7a295d9-830e-4c7c-8ece-ab677fcb990d"
      },
      "source": [
        "# Display a few line pairs\n",
        "for x in range(5):\n",
        "    print(random.choice(text_pairs))"
      ],
      "id": "a7a295d9-830e-4c7c-8ece-ab677fcb990d",
      "execution_count": null,
      "outputs": []
    },
    {
      "cell_type": "code",
      "metadata": {
        "id": "b3fcb4c6-ded4-41ec-8518-4d3c7e92e399"
      },
      "source": [
        "# Split data into training, validation and testing datasets\n",
        "train_ratio = 0.70\n",
        "val_ratio = 0.15\n",
        "test_ratio = 1 - train_ratio - val_ratio \n",
        "\n",
        "num_train = int(train_ratio * len(text_pairs))\n",
        "num_val = int(val_ratio * len(text_pairs))\n",
        "\n",
        "random.shuffle(text_pairs)\n",
        "train = text_pairs[:num_train]\n",
        "val = text_pairs[num_train: num_train + num_val]\n",
        "test = text_pairs[num_train + num_val:]\n",
        "\n",
        "print(\"Training:   \" + str(len(train)))\n",
        "print(\"Validation: \" + str(len(val)))\n",
        "print(\"Testing:    \" + str(len(test)))\n",
        "print(\"Total:     \" + str(len(text_pairs)))"
      ],
      "id": "b3fcb4c6-ded4-41ec-8518-4d3c7e92e399",
      "execution_count": null,
      "outputs": []
    },
    {
      "cell_type": "code",
      "metadata": {
        "id": "d21c368a-d950-4336-87d4-f903c6b24f23"
      },
      "source": [
        "#Hyperparamters \n",
        "vocab_size = 15000\n",
        "sequence_length = 20\n",
        "batch_size = 64\n",
        "\n",
        "embed_dim = 256\n",
        "latent_dim = 2048\n",
        "num_heads = 8\n",
        "epochs = 40 \n",
        "\n",
        "# custom standardization for target sequence, remove additional punctuations  \n",
        "strip_chars = string.punctuation + \"¿\"\n",
        "strip_chars = strip_chars.replace(\"[\", \"\")\n",
        "strip_chars = strip_chars.replace(\"]\", \"\")\n",
        "  \n",
        "def standardize(string):\n",
        "    lowercase = tf.strings.lower(string)\n",
        "    return tf.strings.regex_replace(lowercase, \"[%s]\" % re.escape(strip_chars), \"\")\n",
        "\n",
        "# Vectorize source and target sequences to create two vocabularies \n",
        "english_vectorization = TextVectorization(\n",
        "    max_tokens=vocab_size, output_mode=\"int\", output_sequence_length=sequence_length,\n",
        ")\n",
        "\n",
        "spanish_vectorization = TextVectorization(\n",
        "    max_tokens=vocab_size,\n",
        "    output_mode=\"int\",\n",
        "    output_sequence_length=sequence_length + 1,\n",
        "    standardize=standardize,\n",
        ")\n",
        "\n",
        "train_english_texts = [pair[0] for pair in train]\n",
        "train_spanish_texts = [pair[1] for pair in train]\n",
        "english_vectorization.adapt(train_english_texts)\n",
        "spanish_vectorization.adapt(train_spanish_texts)"
      ],
      "id": "d21c368a-d950-4336-87d4-f903c6b24f23",
      "execution_count": null,
      "outputs": []
    },
    {
      "cell_type": "code",
      "metadata": {
        "id": "VTCGOCEWJ-2K"
      },
      "source": [
        "# Word frequency distribution for english \n",
        "data = train_english_texts\n",
        "ngram_vectorizer = CountVectorizer(analyzer='word', stop_words=\"english\", tokenizer=word_tokenize, ngram_range=(1, 1), min_df=1)\n",
        "X = ngram_vectorizer.fit_transform(data)\n",
        "\n",
        "english_vocab = list(ngram_vectorizer.get_feature_names())\n",
        "english_counts = X.sum(axis=0).A1 # efficent numpy column-wise sum of X matrix\n",
        "freq_dist_eng = Counter(dict(zip(english_vocab, english_counts)))\n"
      ],
      "id": "VTCGOCEWJ-2K",
      "execution_count": null,
      "outputs": []
    },
    {
      "cell_type": "code",
      "metadata": {
        "id": "sDhlDqAgMatz"
      },
      "source": [
        "fd = nltk.FreqDist(freq_dist_eng)\n",
        "fd.plot(25)\n",
        "print(freq_dist_eng.most_common(25))"
      ],
      "id": "sDhlDqAgMatz",
      "execution_count": null,
      "outputs": []
    },
    {
      "cell_type": "code",
      "metadata": {
        "id": "LTNn82bnOPYC"
      },
      "source": [
        "# Word frequency distribution for spanish \n",
        "spanish_text = []\n",
        "spanish_text = filter(lambda x: x not in stopwords.words('spanish'), train_spanish_texts)\n",
        "\n",
        "data2 = spanish_text\n",
        "ngram_vectorizer = CountVectorizer(analyzer='word', tokenizer=word_tokenize, ngram_range=(1, 1), min_df=1)\n",
        "Y = ngram_vectorizer.fit_transform(data2)\n",
        "\n",
        "spanish_vocab = list(ngram_vectorizer.get_feature_names())\n",
        "spanish_counts = Y.sum(axis=0).A1\n",
        "freq_dist_spa = Counter(dict(zip(spanish_vocab, spanish_counts)))"
      ],
      "id": "LTNn82bnOPYC",
      "execution_count": null,
      "outputs": []
    },
    {
      "cell_type": "code",
      "metadata": {
        "id": "netjfjcDQbD7"
      },
      "source": [
        "fd2 = nltk.FreqDist(freq_dist_spa)\n",
        "fd2.plot(25)\n",
        "print(freq_dist_spa.most_common(25))"
      ],
      "id": "netjfjcDQbD7",
      "execution_count": null,
      "outputs": []
    },
    {
      "cell_type": "code",
      "metadata": {
        "id": "146dddd6-7492-4084-b24f-04ca21be5c33"
      },
      "source": [
        "# Format training and validation sets as following:\n",
        "# inputs: entire vectorized source sequence and generated target sequence so far\n",
        "# output: target sequence offsetted by one -- model will predict the new word \n",
        "\n",
        "def format_dataset(english, spanish):\n",
        "    english = english_vectorization(english)\n",
        "    spanish = spanish_vectorization(spanish)\n",
        "    return ({\"encoder_inputs\": english, \"decoder_inputs\": spanish[:, :-1],}, spanish[:, 1:])\n",
        "\n",
        "def make_dataset(pairs):\n",
        "    english_texts, spanish_texts = zip(*pairs)\n",
        "    english_texts = list(english_texts)\n",
        "    spanish_texts = list(spanish_texts)\n",
        "    dataset = tf.data.Dataset.from_tensor_slices((english_texts, spanish_texts))\n",
        "    dataset = dataset.batch(batch_size)\n",
        "    dataset = dataset.map(format_dataset)\n",
        "    return dataset.shuffle(2048).prefetch(16).cache()\n",
        "\n",
        "train_ds = make_dataset(train)\n",
        "val_ds = make_dataset(val)"
      ],
      "id": "146dddd6-7492-4084-b24f-04ca21be5c33",
      "execution_count": null,
      "outputs": []
    },
    {
      "cell_type": "code",
      "metadata": {
        "id": "3552557a-cb97-4f92-b17b-08f09adb40f8"
      },
      "source": [
        "# Verify input and output shapes match \n",
        "for inputs, targets in train_ds.take(1):\n",
        "    print(f'inputs[\"encoder_inputs\"].shape: {inputs[\"encoder_inputs\"].shape}')\n",
        "    print(f'inputs[\"decoder_inputs\"].shape: {inputs[\"decoder_inputs\"].shape}')\n",
        "    print(f\"targets.shape: {targets.shape}\")"
      ],
      "id": "3552557a-cb97-4f92-b17b-08f09adb40f8",
      "execution_count": null,
      "outputs": []
    },
    {
      "cell_type": "code",
      "metadata": {
        "id": "8434f92f-b6d3-4df7-acde-80c6de29db0e"
      },
      "source": [
        "# Sequence-to-Sequence Transformer Architecture  \n",
        "\n",
        "class TransformerEncoder(layers.Layer):\n",
        "    def __init__(self, embed_dim, dense_dim, num_heads, **kwargs):\n",
        "        super(TransformerEncoder, self).__init__(**kwargs)\n",
        "        self.embed_dim = embed_dim\n",
        "        self.dense_dim = dense_dim\n",
        "        self.num_heads = num_heads\n",
        "        self.attention = layers.MultiHeadAttention(\n",
        "            num_heads=num_heads, key_dim=embed_dim\n",
        "        )\n",
        "        self.dense_proj = keras.Sequential(\n",
        "            [layers.Dense(dense_dim, activation=\"relu\"), layers.Dense(embed_dim),]\n",
        "        )\n",
        "        self.layernorm_1 = layers.LayerNormalization()\n",
        "        self.layernorm_2 = layers.LayerNormalization()\n",
        "        self.supports_masking = True\n",
        "        \n",
        "# override get_config method for custom layer classes\n",
        "# This will allow proper saving and loading of models         \n",
        "    def get_config(self):\n",
        "\n",
        "        config = super().get_config().copy()\n",
        "        config.update({\n",
        "            'embed_dim': self.embed_dim,\n",
        "            'dense_dim': self.dense_dim,\n",
        "            'num_heads': self.num_heads,\n",
        "        })\n",
        "        return config\n",
        "\n",
        "    def call(self, inputs, mask=None):\n",
        "        if mask is not None:\n",
        "            padding_mask = tf.cast(mask[:, tf.newaxis, tf.newaxis, :], dtype=\"int32\")\n",
        "        attention_output = self.attention(\n",
        "            query=inputs, value=inputs, key=inputs, attention_mask=padding_mask\n",
        "        )\n",
        "        proj_input = self.layernorm_1(inputs + attention_output)\n",
        "        proj_output = self.dense_proj(proj_input)\n",
        "        return self.layernorm_2(proj_input + proj_output)\n",
        "\n",
        "\n",
        "class PositionalEmbedding(layers.Layer):\n",
        "    def __init__(self, sequence_length, vocab_size, embed_dim, **kwargs):\n",
        "        super(PositionalEmbedding, self).__init__(**kwargs)\n",
        "        self.token_embeddings = layers.Embedding(\n",
        "            input_dim=vocab_size, output_dim=embed_dim\n",
        "        )\n",
        "        self.position_embeddings = layers.Embedding(\n",
        "            input_dim=sequence_length, output_dim=embed_dim\n",
        "        )\n",
        "        self.sequence_length = sequence_length\n",
        "        self.vocab_size = vocab_size\n",
        "        self.embed_dim = embed_dim\n",
        "\n",
        "    def get_config(self):\n",
        "\n",
        "        config = super().get_config().copy()\n",
        "        config.update({\n",
        "            'sequence_length': self.sequence_length,\n",
        "            'vocab_size': self.vocab_size,\n",
        "            'embed_dim': self.embed_dim,\n",
        "        })\n",
        "        return config        \n",
        "        \n",
        "    def call(self, inputs):\n",
        "        length = tf.shape(inputs)[-1]\n",
        "        positions = tf.range(start=0, limit=length, delta=1)\n",
        "        embedded_tokens = self.token_embeddings(inputs)\n",
        "        embedded_positions = self.position_embeddings(positions)\n",
        "        return embedded_tokens + embedded_positions\n",
        "\n",
        "    def compute_mask(self, inputs, mask=None):\n",
        "        return tf.math.not_equal(inputs, 0)\n",
        "\n",
        "\n",
        "class TransformerDecoder(layers.Layer):\n",
        "    def __init__(self, embed_dim, latent_dim, num_heads, **kwargs):\n",
        "        super(TransformerDecoder, self).__init__(**kwargs)\n",
        "        self.embed_dim = embed_dim\n",
        "        self.latent_dim = latent_dim\n",
        "        self.num_heads = num_heads\n",
        "        self.attention_1 = layers.MultiHeadAttention(\n",
        "            num_heads=num_heads, key_dim=embed_dim\n",
        "        )\n",
        "        self.attention_2 = layers.MultiHeadAttention(\n",
        "            num_heads=num_heads, key_dim=embed_dim\n",
        "        )\n",
        "        self.dense_proj = keras.Sequential(\n",
        "            [layers.Dense(latent_dim, activation=\"relu\"), layers.Dense(embed_dim),]\n",
        "        )\n",
        "        self.layernorm_1 = layers.LayerNormalization()\n",
        "        self.layernorm_2 = layers.LayerNormalization()\n",
        "        self.layernorm_3 = layers.LayerNormalization()\n",
        "        self.supports_masking = True\n",
        "        \n",
        "    def get_config(self):\n",
        "\n",
        "        config = super().get_config().copy()\n",
        "        config.update({\n",
        "            'embed_dim': self.embed_dim,\n",
        "            'latent_dim': self.latent_dim,\n",
        "            'num_heads': self.num_heads,\n",
        "        })\n",
        "        return config\n",
        "\n",
        "    def call(self, inputs, encoder_outputs, mask=None):\n",
        "        causal_mask = self.get_causal_attention_mask(inputs)\n",
        "        if mask is not None:\n",
        "            padding_mask = tf.cast(mask[:, tf.newaxis, :], dtype=\"int32\")\n",
        "            padding_mask = tf.minimum(padding_mask, causal_mask)\n",
        "\n",
        "        attention_output_1 = self.attention_1(\n",
        "            query=inputs, value=inputs, key=inputs, attention_mask=causal_mask\n",
        "        )\n",
        "        out_1 = self.layernorm_1(inputs + attention_output_1)\n",
        "\n",
        "        attention_output_2 = self.attention_2(\n",
        "            query=out_1,\n",
        "            value=encoder_outputs,\n",
        "            key=encoder_outputs,\n",
        "            attention_mask=padding_mask,\n",
        "        )\n",
        "        out_2 = self.layernorm_2(out_1 + attention_output_2)\n",
        "\n",
        "        proj_output = self.dense_proj(out_2)\n",
        "        return self.layernorm_3(out_2 + proj_output)\n",
        "\n",
        "    def get_causal_attention_mask(self, inputs):\n",
        "        input_shape = tf.shape(inputs)\n",
        "        batch_size, sequence_length = input_shape[0], input_shape[1]\n",
        "        i = tf.range(sequence_length)[:, tf.newaxis]\n",
        "        j = tf.range(sequence_length)\n",
        "        mask = tf.cast(i >= j, dtype=\"int32\")\n",
        "        mask = tf.reshape(mask, (1, input_shape[1], input_shape[1]))\n",
        "        mult = tf.concat(\n",
        "            [tf.expand_dims(batch_size, -1), tf.constant([1, 1], dtype=tf.int32)],\n",
        "            axis=0,\n",
        "        )\n",
        "        return tf.tile(mask, mult)"
      ],
      "id": "8434f92f-b6d3-4df7-acde-80c6de29db0e",
      "execution_count": null,
      "outputs": []
    },
    {
      "cell_type": "code",
      "metadata": {
        "id": "a5865ddd-f763-4623-8bc9-77229bf9eb78"
      },
      "source": [
        "# Construct end-to-end Transformer using encoder and decoder components \n",
        "\n",
        "encoder_inputs = keras.Input(shape=(None,), dtype=\"int64\", name=\"encoder_inputs\")\n",
        "x = PositionalEmbedding(sequence_length, vocab_size, embed_dim)(encoder_inputs)\n",
        "encoder_outputs = TransformerEncoder(embed_dim, latent_dim, num_heads)(x)\n",
        "encoder = keras.Model(encoder_inputs, encoder_outputs)\n",
        "\n",
        "decoder_inputs = keras.Input(shape=(None,), dtype=\"int64\", name=\"decoder_inputs\")\n",
        "encoded_seq_inputs = keras.Input(shape=(None, embed_dim), name=\"decoder_state_inputs\")\n",
        "x = PositionalEmbedding(sequence_length, vocab_size, embed_dim)(decoder_inputs)\n",
        "x = TransformerDecoder(embed_dim, latent_dim, num_heads)(x, encoded_seq_inputs)\n",
        "x = layers.Dropout(0.5)(x)\n",
        "decoder_outputs = layers.Dense(vocab_size, activation=\"softmax\")(x)\n",
        "decoder = keras.Model([decoder_inputs, encoded_seq_inputs], decoder_outputs)\n",
        "\n",
        "decoder_outputs = decoder([decoder_inputs, encoder_outputs])\n",
        "transformer = keras.Model(\n",
        "    [encoder_inputs, decoder_inputs], decoder_outputs, name=\"transformer\"\n",
        ")\n",
        "\n",
        "transformer.summary()"
      ],
      "id": "a5865ddd-f763-4623-8bc9-77229bf9eb78",
      "execution_count": null,
      "outputs": []
    },
    {
      "cell_type": "code",
      "metadata": {
        "id": "f6d7898a-2fb0-42b2-a7de-49832475ae7d"
      },
      "source": [
        "# Configure and train model \n",
        "transformer.compile(optimizer=\"rmsprop\",\n",
        "                    loss=\"sparse_categorical_crossentropy\",\n",
        "                    metrics=[\"accuracy\"])\n",
        "\n",
        "history = transformer.fit(train_ds, epochs=1, validation_data=val_ds)"
      ],
      "id": "f6d7898a-2fb0-42b2-a7de-49832475ae7d",
      "execution_count": null,
      "outputs": []
    },
    {
      "cell_type": "code",
      "metadata": {
        "id": "mST1-3sGxFoj"
      },
      "source": [
        "# Plot the training and validation loss\n",
        "plt.plot(history.history['loss'])\n",
        "plt.plot(history.history['val_loss'])\n",
        "plt.title('model loss')\n",
        "plt.ylabel('loss')\n",
        "plt.xlabel('epoch')\n",
        "plt.legend(['train', 'val'], loc='upper left')\n",
        "plt.show()"
      ],
      "id": "mST1-3sGxFoj",
      "execution_count": null,
      "outputs": []
    },
    {
      "cell_type": "code",
      "metadata": {
        "id": "1ddc552e-4066-4b95-bb23-f01dbefd7683"
      },
      "source": [
        "# Save/upload trained model \n",
        "\n",
        "#transformer.save('/content/drive/MyDrive/transformer_X_Epochs.h5')\n",
        "\n",
        "'''\n",
        "model_path = '/content/drive/MyDrive/transformer_X_Epochs.h5'\n",
        "transformer = tf.keras.models.load_model(model_path, custom_objects={\n",
        "    'TransformerEncoder': TransformerEncoder,\n",
        "    'PositionalEmbedding': PositionalEmbedding,\n",
        "    'TransformerDecoder': TransformerDecoder }\n",
        "    )\n",
        "'''"
      ],
      "id": "1ddc552e-4066-4b95-bb23-f01dbefd7683",
      "execution_count": null,
      "outputs": []
    },
    {
      "cell_type": "code",
      "metadata": {
        "id": "90c25aa3-f5ac-4b8a-ba20-d4cfa9fd998b"
      },
      "source": [
        "# Check model performance on testing dataset\n",
        "# Test samples will needed to be properly formatted \n",
        "\n",
        "spanish_vocab = spanish_vectorization.get_vocabulary()\n",
        "spanish_index_lookup = dict(zip(range(len(spanish_vocab)), spanish_vocab))\n",
        "max_decoded_sentence_length = 20\n",
        "\n",
        "def decode_sequence(input_sentence):\n",
        "    tokenized_input_sentence = english_vectorization([input_sentence])\n",
        "    decoded_sentence = \"[start]\"\n",
        "    for i in range(max_decoded_sentence_length):\n",
        "        tokenized_target_sentence = spanish_vectorization([decoded_sentence])[:, :-1]\n",
        "        predictions = transformer([tokenized_input_sentence, tokenized_target_sentence])\n",
        "\n",
        "        sampled_token_index = np.argmax(predictions[0, i, :])\n",
        "        sampled_token = spanish_index_lookup[sampled_token_index]\n",
        "        decoded_sentence += \" \" + sampled_token\n",
        "\n",
        "        if sampled_token == \"[end]\":\n",
        "            break\n",
        "    return decoded_sentence\n",
        "\n",
        "test_english_texts = [pair[0] for pair in test]\n",
        "for x in range(10):\n",
        "    input_sentence = random.choice(test_english_texts)\n",
        "    translated = decode_sequence(input_sentence)\n",
        "    print(input_sentence + \" \" + translated)"
      ],
      "id": "90c25aa3-f5ac-4b8a-ba20-d4cfa9fd998b",
      "execution_count": null,
      "outputs": []
    },
    {
      "cell_type": "code",
      "metadata": {
        "id": "SrFt0KgQxOIr"
      },
      "source": [
        "# Test user-generated sentences\n",
        "user_input = input(\"Please enter an English sentence to be translated into Spanish: \")\n",
        "translated_input = decode_sequence(user_input)\n",
        "print(user_input + \" \" + translated_input)"
      ],
      "id": "SrFt0KgQxOIr",
      "execution_count": null,
      "outputs": []
    }
  ]
}